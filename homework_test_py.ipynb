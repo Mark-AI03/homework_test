{
 "cells": [
  {
   "cell_type": "code",
   "execution_count": 48,
   "metadata": {},
   "outputs": [
    {
     "data": {
      "text/plain": [
       "'\\n1] Reading image & dimensions : Pillow library\\n2] Transparency check : checking each pixel -> alpha channel value > 0\\n3] Circle check: outisde pixels should be transparent\\n4] Sentibank for color analysis\\n5] Result: True or False -> with report\\n'"
      ]
     },
     "execution_count": 48,
     "metadata": {},
     "output_type": "execute_result"
    }
   ],
   "source": [
    "\"\"\"\n",
    "1] Reading image & dimensions : Pillow library\n",
    "2] Transparency check : checking each pixel -> alpha channel value > 0\n",
    "3] Circle check: outisde pixels should be transparent\n",
    "4] Sentibank for color analysis\n",
    "5] Result: True or False -> with report\n",
    "\"\"\""
   ]
  },
  {
   "cell_type": "code",
   "execution_count": 49,
   "metadata": {},
   "outputs": [],
   "source": [
    "# Importing Library\n",
    "from PIL import Image, ImageDraw"
   ]
  },
  {
   "cell_type": "code",
   "execution_count": 50,
   "metadata": {},
   "outputs": [],
   "source": [
    "# Defining the functon\n",
    "\n",
    "Image_pathway_file = r\"C:\\Users\\User\\Desktop\\test_homework\\spiderman.png\"\n",
    "Image_pathway_file_2 = r\"C:\\Users\\User\\Desktop\\test_homework\\google_512.png\"\n",
    "\n",
    "def verify_badge(image_pathway):\n",
    "    \"\"\"Verifying image dimensions\n",
    "\n",
    "    Args:\n",
    "        image_pathway: file path\n",
    "    \n",
    "    Return:\n",
    "        True, if needs are met\n",
    "        False, + Report, if needs arent met\n",
    "    \"\"\"\n",
    "\n",
    "    # reading + checking file:\n",
    "    try:\n",
    "        image = Image.open(image_pathway).convert(\"RGBA\")\n",
    "    except FileNotFoundError:\n",
    "        return False, \"file not found\"\n",
    "    except OSError:\n",
    "        return False, \"Error opening image\"\n",
    "    \n",
    "    # Checking image dimensions\n",
    "    if image.width != 512 or image.height != 512:\n",
    "        return False, f\"Image size wrong: {image.width}x{image.height} (Expected 512x512)\"\n",
    "    \n",
    "    # Checking transparency:\n",
    "    # creating black mask\n",
    "    mask = Image.new(\"L\", image.size, 0)\n",
    "    # calculating radius\n",
    "    radius = min(image.width, image.height) // 2\n",
    "    # calculating center\n",
    "    center = (image.width // 2, image.height // 2)\n",
    "    # white circle mask\n",
    "    draw = ImageDraw.Draw(mask)\n",
    "    draw.ellipse([center[0] - radius, center[1] - radius, center[0] + radius, center[1] + radius], fill=255)\n",
    "    \n",
    "    non_transparent_pixels = []\n",
    "    for x in range(image.width):\n",
    "        for y in range(image.height):\n",
    "            if image.getpixel((x, y))[3] > 0 and not mask.getpixel((x, y)):\n",
    "                non_transparent_pixels.append((x, y))\n",
    "                \n",
    "    if non_transparent_pixels:\n",
    "        #return False, f\"non- transparent pixels outisde circle: {non_transparent_pixels}\"\n",
    "        non_t_list = non_transparent_pixels\n",
    "        return False, f\"There are non transparent pixels\", non_t_list\n",
    "\n",
    "    \n",
    "    return True, \"Image meets all badge specifications\""
   ]
  },
  {
   "cell_type": "code",
   "execution_count": 51,
   "metadata": {},
   "outputs": [
    {
     "name": "stdout",
     "output_type": "stream",
     "text": [
      "(False, 'Image size wrong: 1496x1508 (Expected 512x512)')\n",
      "(False, 'Image size wrong: 840x859 (Expected 512x512)')\n"
     ]
    }
   ],
   "source": [
    "# Testing the verify_badge function\n",
    "print(verify_badge(Image_pathway_file))\n",
    "print(verify_badge(Image_pathway_file_2))"
   ]
  },
  {
   "cell_type": "code",
   "execution_count": null,
   "metadata": {},
   "outputs": [],
   "source": [
    "# Now I am verifying the dimensions of the second image found in Image_path_file_2\n",
    "Image_pathway_file_3 = r\"C:\\Users\\User\\Desktop\\test_homework\\new_resized_image.png\"\n",
    "verify_badge(Image_pathway_file_3)"
   ]
  },
  {
   "cell_type": "code",
   "execution_count": 53,
   "metadata": {},
   "outputs": [],
   "source": [
    "# Defining a function that convert image to badge\n",
    "\n",
    "def convert_to_badge(image_path):\n",
    "  \"\"\"\n",
    "  Converts an image to a badge meeting specifications.\n",
    "\n",
    "  Args:\n",
    "    image_path: Path to the image.\n",
    "\n",
    "  Returns:\n",
    "    PIL Image object meeting badge specifications or None on error.\n",
    "  \"\"\"\n",
    "\n",
    "  try:\n",
    "    img = Image.open(image_path)\n",
    "  except FileNotFoundError:\n",
    "    return None, \"File not found.\"\n",
    "  except OSError:\n",
    "    return None, \"Error opening image.\"\n",
    "\n",
    "  img = img.convert(\"RGBA\")  # Ensure RGBA format\n",
    "  img = img.resize((512, 512), Image.Resampling.LANCZOS)  # Resize with antialiasing\n",
    "\n",
    "  # Add transparent background if needed\n",
    "  if img.mode != \"RGBA\":\n",
    "    img = img.convert(\"RGBA\").convert(\"RGBA\")\n",
    "\n",
    "  # Optional color adjustment (replace with your preferred approach)\n",
    "  # adjust_colors_for_happiness(img)\n",
    "\n",
    "  # Apply circle mask\n",
    "  mask = Image.new(\"L\", img.size, 0)\n",
    "  radius = min(img.width, img.height) // 2\n",
    "  center = (img.width // 2, img.height // 2)\n",
    "  draw = ImageDraw.Draw(mask)\n",
    "  draw.ellipse([center[0] - radius, center[1] - radius, center[0] + radius, center[1] + radius], fill=255)\n",
    "  \n",
    "  img.putalpha(mask)\n",
    "  img.show()\n",
    "\n",
    "\n",
    "  return img, \"Image converted successfully.\""
   ]
  },
  {
   "cell_type": "code",
   "execution_count": 54,
   "metadata": {},
   "outputs": [],
   "source": [
    "# Testing the function convert_image_to_badge\n",
    "converted_image = convert_to_badge(Image_pathway_file)"
   ]
  }
 ],
 "metadata": {
  "kernelspec": {
   "display_name": "Homework_test",
   "language": "python",
   "name": "python3"
  },
  "language_info": {
   "codemirror_mode": {
    "name": "ipython",
    "version": 3
   },
   "file_extension": ".py",
   "mimetype": "text/x-python",
   "name": "python",
   "nbconvert_exporter": "python",
   "pygments_lexer": "ipython3",
   "version": "3.9.18"
  }
 },
 "nbformat": 4,
 "nbformat_minor": 2
}
